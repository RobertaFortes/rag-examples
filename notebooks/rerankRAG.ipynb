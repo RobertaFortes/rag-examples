{
 "cells": [
  {
   "cell_type": "code",
   "execution_count": 29,
   "id": "8dbaeb67",
   "metadata": {},
   "outputs": [],
   "source": [
    "from langchain_text_splitters import RecursiveCharacterTextSplitter\n",
    "from langchain_openai import OpenAIEmbeddings, ChatOpenAI\n",
    "from langchain_community.vectorstores import Chroma\n",
    "from langchain_community.document_loaders import PyPDFLoader\n",
    "\n",
    "\n",
    "from langchain_core.prompts import ChatPromptTemplate\n",
    "from langchain_core.runnables import RunnablePassthrough, RunnableParallel, RunnableLambda\n",
    "\n",
    "from langchain_core.output_parsers import StrOutputParser\n",
    "\n",
    "from langchain.retrievers.contextual_compression import ContextualCompressionRetriever\n",
    "from langchain.retrievers.document_compressors import LLMChainExtractor\n"
   ]
  },
  {
   "cell_type": "code",
   "execution_count": 1,
   "id": "7c3f9800",
   "metadata": {},
   "outputs": [
    {
     "name": "stdout",
     "output_type": "stream",
     "text": [
      "Requirement already satisfied: python-dotenv in /Users/roberta/www/ai-devs/rag-examples/.venv/lib/python3.13/site-packages (1.1.1)\n",
      "Note: you may need to restart the kernel to use updated packages.\n"
     ]
    }
   ],
   "source": [
    "%pip install python-dotenv\n",
    "import dotenv\n",
    "%load_ext dotenv\n",
    "%dotenv"
   ]
  },
  {
   "cell_type": "code",
   "execution_count": 31,
   "id": "9333b2e8",
   "metadata": {},
   "outputs": [],
   "source": [
    "#Carregar modelos OPENAI - embedding e chat\n",
    "embeddings = OpenAIEmbeddings(model=\"text-embedding-3-small\")\n",
    "llm = ChatOpenAI(model_name= \"gpt-3.5-turbo\", max_tokens = 300)"
   ]
  },
  {
   "cell_type": "code",
   "execution_count": null,
   "id": "35189344",
   "metadata": {},
   "outputs": [],
   "source": [
    "# Carregar PDF\n",
    "\n",
    "pdf_link = os.path.join(\"..\", \"data\", \"os-sertoes.pdf\")\n",
    "loader = PyPDFLoader(pdf_link, extract_images=False)\n",
    "pages = loader.load_and_split()\n"
   ]
  },
  {
   "cell_type": "code",
   "execution_count": null,
   "id": "b8b4ee7b",
   "metadata": {},
   "outputs": [],
   "source": [
    "# Separar em chunks\n",
    "text_splitter = RecursiveCharacterTextSplitter(\n",
    "  chunk_size=600, \n",
    "  chunk_overlap=100, \n",
    "  length_function=len, \n",
    "  add_start_index=True,\n",
    "  separators=[\"\\n\\n\", \"\\n\", \".\", \"!\", \"?\", \",\", \" \"]\n",
    ")\n",
    "chunks = text_splitter.split_documents(pages)"
   ]
  },
  {
   "cell_type": "code",
   "execution_count": 34,
   "id": "3d35d276",
   "metadata": {},
   "outputs": [],
   "source": [
    "# Salvar chunks no ChromaDB\n",
    "vectordb = Chroma(embedding_function=embeddings, persist_directory='naiveDB')"
   ]
  },
  {
   "cell_type": "code",
   "execution_count": 35,
   "id": "80442819",
   "metadata": {},
   "outputs": [],
   "source": [
    "# Carregar chunks no ChromaDB\n",
    "\n",
    "naive_retriever = vectordb.as_retriever(search_kwargs={\"k\": 5})"
   ]
  },
  {
   "cell_type": "code",
   "execution_count": 36,
   "id": "99e8dc97",
   "metadata": {},
   "outputs": [],
   "source": [
    "compressor = LLMChainExtractor.from_llm(llm)"
   ]
  },
  {
   "cell_type": "code",
   "execution_count": 37,
   "id": "4691881d",
   "metadata": {},
   "outputs": [],
   "source": [
    "retriever = ContextualCompressionRetriever(\n",
    "    base_retriever=naive_retriever,\n",
    "    base_compressor=compressor\n",
    ")"
   ]
  },
  {
   "cell_type": "code",
   "execution_count": 38,
   "id": "38febeab",
   "metadata": {},
   "outputs": [],
   "source": [
    "TEMPLATE = \"\"\"\n",
    "Você é um assistente de IA que ajuda a responder perguntas sobre o conteúdo de documentos legais. Você deve usar o contexto fornecido para responder às perguntas.\n",
    "Query: {question}\n",
    "Context: {context}\n",
    "\"\"\"\n",
    "\n",
    "rag_prompt = ChatPromptTemplate.from_template(TEMPLATE)"
   ]
  },
  {
   "cell_type": "code",
   "execution_count": 41,
   "id": "2b1a8a9a",
   "metadata": {},
   "outputs": [],
   "source": [
    "setup_retrieval = RunnableParallel({\"question\": RunnablePassthrough(), \"context\": RunnableLambda(lambda x: retriever.invoke(x[\"question\"]))})\n",
    "\n",
    "output_parser = StrOutputParser()\n",
    "\n",
    "compressor_retrievel_chain = (\n",
    "    setup_retrieval\n",
    "    | rag_prompt\n",
    "    | llm\n",
    "    | output_parser\n",
    ")"
   ]
  },
  {
   "cell_type": "code",
   "execution_count": 42,
   "id": "0df31439",
   "metadata": {},
   "outputs": [
    {
     "name": "stdout",
     "output_type": "stream",
     "text": [
      "Os principais desafios éticos associados à IA incluem questões de privacidade e proteção de dados, viés e discriminação algorítmica, transparência e explicabilidade dos algoritmos, responsabilidade e accountability, e o impacto da IA no mercado de trabalho e na sociedade como um todo. É importante considerar essas questões éticas ao desenvolver e implementar tecnologias de IA.\n"
     ]
    }
   ],
   "source": [
    "resposta = compressor_retrievel_chain.invoke({\n",
    "    \"question\": \"Quais são os principais desafios éticos associados à IA?\"\n",
    "})\n",
    "print(resposta)"
   ]
  }
 ],
 "metadata": {
  "kernelspec": {
   "display_name": ".venv",
   "language": "python",
   "name": "python3"
  },
  "language_info": {
   "codemirror_mode": {
    "name": "ipython",
    "version": 3
   },
   "file_extension": ".py",
   "mimetype": "text/x-python",
   "name": "python",
   "nbconvert_exporter": "python",
   "pygments_lexer": "ipython3",
   "version": "3.13.5"
  }
 },
 "nbformat": 4,
 "nbformat_minor": 5
}
