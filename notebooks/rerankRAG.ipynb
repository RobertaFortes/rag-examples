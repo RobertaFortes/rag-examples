{
 "cells": [
  {
   "cell_type": "code",
   "execution_count": 2,
   "id": "8dbaeb67",
   "metadata": {},
   "outputs": [],
   "source": [
    "from langchain_text_splitters import RecursiveCharacterTextSplitter\n",
    "from langchain_openai import OpenAIEmbeddings, ChatOpenAI\n",
    "from langchain_community.vectorstores import Chroma\n",
    "from langchain_community.document_loaders import PyPDFLoader\n",
    "\n",
    "\n",
    "from langchain_core.prompts import ChatPromptTemplate\n",
    "from langchain_core.runnables import RunnablePassthrough, RunnableParallel, RunnableLambda\n",
    "\n",
    "from langchain_core.output_parsers import StrOutputParser\n",
    "\n",
    "from langchain.retrievers.contextual_compression import ContextualCompressionRetriever\n",
    "from langchain.retrievers.document_compressors import LLMChainExtractor\n"
   ]
  },
  {
   "cell_type": "code",
   "execution_count": 3,
   "id": "7c3f9800",
   "metadata": {},
   "outputs": [
    {
     "name": "stdout",
     "output_type": "stream",
     "text": [
      "Requirement already satisfied: python-dotenv in /Users/roberta/www/ai-devs/rag-examples/.venv/lib/python3.13/site-packages (1.1.1)\n",
      "Note: you may need to restart the kernel to use updated packages.\n",
      "The dotenv extension is already loaded. To reload it, use:\n",
      "  %reload_ext dotenv\n"
     ]
    }
   ],
   "source": [
    "%pip install python-dotenv\n",
    "import dotenv\n",
    "%load_ext dotenv\n",
    "%dotenv"
   ]
  },
  {
   "cell_type": "code",
   "execution_count": 5,
   "id": "ff46ce51",
   "metadata": {},
   "outputs": [],
   "source": [
    "import os"
   ]
  },
  {
   "cell_type": "code",
   "execution_count": 4,
   "id": "dbc65404",
   "metadata": {},
   "outputs": [],
   "source": [
    "questions = [\n",
    "    \"Qual é a visão de Euclides da Cunha sobre o ambiente natural do sertão nordestino e como ele influencia a vida dos habitantes?\",\n",
    "    \"Quais são as principais características da população sertaneja descritas por Euclides da Cunha? Como ele relaciona essas características com o ambiente em que vivem?\",\n",
    "    \"Qual foi o contexto histórico e político que levou à Guerra de Canudos, segundo Euclides da Cunha?\",\n",
    "    \"Como Euclides da Cunha descreve a figura de Antônio Conselheiro e seu papel na Guerra de Canudos?\",\n",
    "    \"Quais são os principais aspectos da crítica social e política presentes em \\\"Os Sertões\\\"? Como esses aspectos refletem a visão do autor sobre o Brasil da época?\",\n",
    "]"
   ]
  },
  {
   "cell_type": "code",
   "execution_count": 6,
   "id": "9333b2e8",
   "metadata": {},
   "outputs": [],
   "source": [
    "#Carregar modelos OPENAI - embedding e chat\n",
    "embeddings = OpenAIEmbeddings(model=\"text-embedding-3-small\")\n",
    "llm = ChatOpenAI(model_name= \"gpt-3.5-turbo\", max_tokens = 300)"
   ]
  },
  {
   "cell_type": "code",
   "execution_count": 7,
   "id": "35189344",
   "metadata": {},
   "outputs": [],
   "source": [
    "# Carregar PDF\n",
    "\n",
    "pdf_path = os.path.join(\"..\", \"data\", \"os-sertoes.pdf\")\n",
    "loader = PyPDFLoader(pdf_path, extract_images=False)\n",
    "pages = loader.load_and_split()\n"
   ]
  },
  {
   "cell_type": "code",
   "execution_count": 8,
   "id": "b8b4ee7b",
   "metadata": {},
   "outputs": [],
   "source": [
    "# Separar em chunks\n",
    "text_splitter = RecursiveCharacterTextSplitter(\n",
    "  chunk_size=600, \n",
    "  chunk_overlap=100, \n",
    "  length_function=len, \n",
    "  add_start_index=True,\n",
    "  separators=[\"\\n\\n\", \"\\n\", \".\", \"!\", \"?\", \",\", \" \"]\n",
    ")\n",
    "chunks = text_splitter.split_documents(pages)"
   ]
  },
  {
   "cell_type": "code",
   "execution_count": 9,
   "id": "3d35d276",
   "metadata": {},
   "outputs": [
    {
     "name": "stderr",
     "output_type": "stream",
     "text": [
      "/var/folders/pp/byh0kn390x12x8dgh89r2d8r0000gn/T/ipykernel_51423/866894675.py:2: LangChainDeprecationWarning: The class `Chroma` was deprecated in LangChain 0.2.9 and will be removed in 1.0. An updated version of the class exists in the :class:`~langchain-chroma package and should be used instead. To use it run `pip install -U :class:`~langchain-chroma` and import as `from :class:`~langchain_chroma import Chroma``.\n",
      "  vectordb = Chroma(embedding_function=embeddings)\n"
     ]
    }
   ],
   "source": [
    "# Salvar chunks no ChromaDB\n",
    "vectordb = Chroma(embedding_function=embeddings)"
   ]
  },
  {
   "cell_type": "code",
   "execution_count": 10,
   "id": "80442819",
   "metadata": {},
   "outputs": [],
   "source": [
    "# Carregar chunks no ChromaDB\n",
    "vectordb.add_documents(chunks)\n",
    "naive_retriever = vectordb.as_retriever(search_kwargs={\"k\": 10})"
   ]
  },
  {
   "cell_type": "code",
   "execution_count": 11,
   "id": "99e8dc97",
   "metadata": {},
   "outputs": [],
   "source": [
    "compressor = LLMChainExtractor.from_llm(llm)"
   ]
  },
  {
   "cell_type": "code",
   "execution_count": 12,
   "id": "4691881d",
   "metadata": {},
   "outputs": [],
   "source": [
    "retriever = ContextualCompressionRetriever(\n",
    "    base_retriever=naive_retriever,\n",
    "    base_compressor=compressor\n",
    ")"
   ]
  },
  {
   "cell_type": "code",
   "execution_count": 13,
   "id": "38febeab",
   "metadata": {},
   "outputs": [],
   "source": [
    "TEMPLATE = \"\"\"\n",
    "Você é um especialista em literatura brasileira. Responda a pergunta abaixo utilizando o contexto informado\n",
    "\n",
    "Contexto: {context}\n",
    "    \n",
    "Pergunta: {question}\n",
    "\"\"\"\n",
    "\n",
    "rag_prompt = ChatPromptTemplate.from_template(TEMPLATE)"
   ]
  },
  {
   "cell_type": "code",
   "execution_count": 14,
   "id": "2b1a8a9a",
   "metadata": {},
   "outputs": [],
   "source": [
    "setup_retrieval = RunnableParallel({\"question\": RunnablePassthrough(), \"context\": RunnableLambda(lambda x: retriever.invoke(x[\"question\"]))})\n",
    "\n",
    "output_parser = StrOutputParser()\n",
    "\n",
    "compressor_retrieval_chain = (\n",
    "    setup_retrieval\n",
    "    | rag_prompt\n",
    "    | llm\n",
    "    | output_parser\n",
    ")"
   ]
  },
  {
   "cell_type": "code",
   "execution_count": 19,
   "id": "0df31439",
   "metadata": {},
   "outputs": [],
   "source": [
    "def answer_question(question: str):\n",
    "    return compressor_retrieval_chain.invoke({\"question\": question})"
   ]
  },
  {
   "cell_type": "code",
   "execution_count": 20,
   "id": "7a81a6e2",
   "metadata": {},
   "outputs": [
    {
     "name": "stdout",
     "output_type": "stream",
     "text": [
      "{'numero': 0, 'pergunta': 'Qual é a visão de Euclides da Cunha sobre o ambiente natural do sertão nordestino e como ele influencia a vida dos habitantes?', 'resposta': 'Euclides da Cunha descreve o ambiente natural do sertão nordestino como uma região de contrastes, onde as intermitências de cheias e estiagens são comparadas às batidas do coração da maior artéria da terra. Ele também destaca a fertilidade inicial do sertão, descrevendo-o como um vale vasto e sem dono, porém alerta para a dura realidade das secas que trazem dias torturantes, atmosfera asfixiante e seca assombrosa. Essas condições extremas influenciam diretamente a vida dos habitantes do sertão, tornando-a difícil e desafiadora, marcada pela luta pela sobrevivência em um ambiente hostil e implacável.'}\n",
      "{'numero': 1, 'pergunta': 'Quais são as principais características da população sertaneja descritas por Euclides da Cunha? Como ele relaciona essas características com o ambiente em que vivem?', 'resposta': 'Euclides da Cunha descreve a população sertaneja como fortes e resistentes, destacando a sua bravura e determinação. Ele relaciona essas características com o ambiente em que vivem ao mencionar a influência das condições extremas do sertão, como as intermitências de cheias e estiagens, a atração exercida pelo meio e a indisciplina da vida sertaneja. O autor também destaca a influência das crenças ingênuas e do misticismo feroz e extravagante presentes na cultura do sertão, mostrando como esses elementos moldam a personalidade e o comportamento do sertanejo.'}\n",
      "{'numero': 2, 'pergunta': 'Qual foi o contexto histórico e político que levou à Guerra de Canudos, segundo Euclides da Cunha?', 'resposta': 'Segundo Euclides da Cunha, o contexto histórico e político que levou à Guerra de Canudos foi a instabilidade e as insurreições que ocorriam na Bahia na época. O governo da Bahia estava lidando com diversas outras insurreições, como a investida na cidade de Lençóis por facínoras, a queda do povoado de Barra do Mendes nas mãos de turbulentos, e os atentados em Jequié. Diante dessa situação, tornou-se urgente pacificar o sertão de Canudos, o que culminou na guerra contra os seguidores do beato Antônio Conselheiro.'}\n",
      "{'numero': 3, 'pergunta': 'Como Euclides da Cunha descreve a figura de Antônio Conselheiro e seu papel na Guerra de Canudos?', 'resposta': 'Euclides da Cunha descreve a figura de Antônio Conselheiro como um árbitro incondicional de todas as divergências ou brigas, e destaca seu papel na Guerra de Canudos como um líder religioso e político que desafiou as autoridades constituídas, levando seus seguidores a confrontos violentos com o governo.'}\n",
      "{'numero': 4, 'pergunta': 'Quais são os principais aspectos da crítica social e política presentes em \"Os Sertões\"? Como esses aspectos refletem a visão do autor sobre o Brasil da época?', 'resposta': 'Os principais aspectos da crítica social e política presentes em \"Os Sertões\" são a discordância absoluta e radical entre as cidades da costa e as malocas de telha do interior. Essa divisão desequilibra o ritmo de desenvolvimento evolutivo e perturba a sociedade. \\n\\nEsses aspectos refletem a visão do autor, Euclides da Cunha, sobre o Brasil da época, demonstrando as disparidades sociais e econômicas existentes entre as diferentes regiões do país. Ele evidencia as tensões e conflitos presentes na sociedade brasileira do final do século XIX, marcada por eventos como o fim da Guerra do Paraguai, a criação do Partido Republicano e a Abolição da Escravidão. Euclides da Cunha analisa essas questões de forma crítica e denuncia as desigualdades e injustiças presentes na realidade brasileira daquela época.'}\n"
     ]
    }
   ],
   "source": [
    "for index, question in enumerate(questions):\n",
    "    resposta = answer_question(question)\n",
    "    print({\"numero\": index, \"pergunta\": question, \"resposta\": resposta})"
   ]
  }
 ],
 "metadata": {
  "kernelspec": {
   "display_name": ".venv",
   "language": "python",
   "name": "python3"
  },
  "language_info": {
   "codemirror_mode": {
    "name": "ipython",
    "version": 3
   },
   "file_extension": ".py",
   "mimetype": "text/x-python",
   "name": "python",
   "nbconvert_exporter": "python",
   "pygments_lexer": "ipython3",
   "version": "3.13.5"
  }
 },
 "nbformat": 4,
 "nbformat_minor": 5
}
