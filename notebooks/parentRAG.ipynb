{
 "cells": [
  {
   "cell_type": "code",
   "execution_count": 19,
   "id": "42d6310c",
   "metadata": {},
   "outputs": [],
   "source": [
    "from langchain_text_splitters import RecursiveCharacterTextSplitter\n",
    "from langchain_openai import OpenAIEmbeddings, ChatOpenAI\n",
    "from langchain_community.vectorstores import Chroma\n",
    "from langchain_community.document_loaders import PyPDFLoader\n",
    "from langchain.retrievers import ParentDocumentRetriever\n",
    "from langchain.storage import InMemoryStore\n",
    "from langchain_core.prompts import PromptTemplate\n",
    "from langchain_core.runnables import RunnableSequence\n",
    "\n",
    "from langchain_core.output_parsers import StrOutputParser"
   ]
  },
  {
   "cell_type": "code",
   "execution_count": 6,
   "id": "80b05964",
   "metadata": {},
   "outputs": [],
   "source": [
    "import os"
   ]
  },
  {
   "cell_type": "code",
   "execution_count": 7,
   "id": "71a2d776",
   "metadata": {},
   "outputs": [
    {
     "name": "stdout",
     "output_type": "stream",
     "text": [
      "Requirement already satisfied: python-dotenv in /Users/roberta/www/ai-devs/rag-examples/.venv/lib/python3.13/site-packages (1.1.1)\n",
      "Note: you may need to restart the kernel to use updated packages.\n"
     ]
    }
   ],
   "source": [
    "%pip install python-dotenv\n",
    "import dotenv\n",
    "%load_ext dotenv\n",
    "%dotenv"
   ]
  },
  {
   "cell_type": "code",
   "execution_count": 12,
   "id": "f75d2758",
   "metadata": {},
   "outputs": [],
   "source": [
    "questions = [\n",
    "    \"Qual é a visão de Euclides da Cunha sobre o ambiente natural do sertão nordestino e como ele influencia a vida dos habitantes?\",\n",
    "    \"Quais são as principais características da população sertaneja descritas por Euclides da Cunha? Como ele relaciona essas características com o ambiente em que vivem?\",\n",
    "    \"Qual foi o contexto histórico e político que levou à Guerra de Canudos, segundo Euclides da Cunha?\",\n",
    "    \"Como Euclides da Cunha descreve a figura de Antônio Conselheiro e seu papel na Guerra de Canudos?\",\n",
    "    \"Quais são os principais aspectos da crítica social e política presentes em \\\"Os Sertões\\\"? Como esses aspectos refletem a visão do autor sobre o Brasil da época?\",\n",
    "]"
   ]
  },
  {
   "cell_type": "code",
   "execution_count": 8,
   "id": "859b679a",
   "metadata": {},
   "outputs": [],
   "source": [
    "embeddings = OpenAIEmbeddings(model=\"text-embedding-3-small\")\n",
    "llm = ChatOpenAI(model_name= \"gpt-3.5-turbo\", max_tokens = 500)"
   ]
  },
  {
   "cell_type": "code",
   "execution_count": 10,
   "id": "e612b9fa",
   "metadata": {},
   "outputs": [],
   "source": [
    "# Carregar PDF\n",
    "\n",
    "pdf_path = os.path.join(\"..\", \"data\", \"os-sertoes.pdf\")\n",
    "loader = PyPDFLoader(pdf_path, extract_images=False)\n",
    "pages = loader.load_and_split()"
   ]
  },
  {
   "cell_type": "code",
   "execution_count": 13,
   "id": "eae772f8",
   "metadata": {},
   "outputs": [],
   "source": [
    "# Splitter\n",
    "child_splitter = RecursiveCharacterTextSplitter(chunk_size=200)\n",
    "parent_splitter = RecursiveCharacterTextSplitter(\n",
    "  chunk_size=4000, \n",
    "  chunk_overlap=200, \n",
    "  length_function=len, \n",
    "  add_start_index=True,\n",
    "  separators=[\"\\n\\n\", \"\\n\", \".\", \"!\", \"?\", \",\", \" \"]\n",
    ")"
   ]
  },
  {
   "cell_type": "code",
   "execution_count": 14,
   "id": "9729a4aa",
   "metadata": {},
   "outputs": [
    {
     "name": "stderr",
     "output_type": "stream",
     "text": [
      "/var/folders/pp/byh0kn390x12x8dgh89r2d8r0000gn/T/ipykernel_50673/3164186608.py:4: LangChainDeprecationWarning: The class `Chroma` was deprecated in LangChain 0.2.9 and will be removed in 1.0. An updated version of the class exists in the :class:`~langchain-chroma package and should be used instead. To use it run `pip install -U :class:`~langchain-chroma` and import as `from :class:`~langchain_chroma import Chroma``.\n",
      "  vectorstore = Chroma(embedding_function=embeddings)\n"
     ]
    }
   ],
   "source": [
    "# Storage\n",
    "\n",
    "store = InMemoryStore()\n",
    "vectorstore = Chroma(embedding_function=embeddings)"
   ]
  },
  {
   "cell_type": "code",
   "execution_count": 16,
   "id": "0fc1bdef",
   "metadata": {},
   "outputs": [],
   "source": [
    "parent_document_retriever = ParentDocumentRetriever(\n",
    "    child_splitter=child_splitter,\n",
    "    parent_splitter=parent_splitter,\n",
    "    vectorstore=vectorstore,\n",
    "    docstore=store\n",
    ")\n",
    "batch_size = 50\n",
    "for i in range(0, len(pages), batch_size):\n",
    "    batch_pages = pages[i:i + batch_size]\n",
    "    parent_document_retriever.add_documents(batch_pages, ids=None)"
   ]
  },
  {
   "cell_type": "code",
   "execution_count": 22,
   "id": "57045eba",
   "metadata": {},
   "outputs": [],
   "source": [
    "TEMPLATE = \"\"\"\n",
    "Você é um especialista em literatura brasileira. Responda a pergunta abaixo utilizando o contexto informado\n",
    "\n",
    "Contexto: {context}\n",
    "    \n",
    "Pergunta: {question}\n",
    "\"\"\"\n",
    "\n",
    "prompt = PromptTemplate(input_variables=[\"context\", \"question\"], template=TEMPLATE)\n",
    "parser = StrOutputParser()\n",
    "sequence = RunnableSequence(prompt | llm | parser)"
   ]
  },
  {
   "cell_type": "code",
   "execution_count": 23,
   "id": "e4cff64c",
   "metadata": {},
   "outputs": [],
   "source": [
    "def answer_question(question: str):\n",
    "    context = parent_document_retriever.invoke(question)\n",
    "    if not context:\n",
    "        return \"Desculpe, não consegui encontrar informações relevantes para a pergunta.\"\n",
    "\n",
    "    response = sequence.invoke({\"context\": context, \"question\": question})\n",
    "    if not response:\n",
    "        return \"Desculpe, não consegui gerar uma resposta para a pergunta.\"\n",
    "\n",
    "    return response"
   ]
  },
  {
   "cell_type": "code",
   "execution_count": 24,
   "id": "9aebe815",
   "metadata": {},
   "outputs": [
    {
     "name": "stdout",
     "output_type": "stream",
     "text": [
      "{'numero': 0, 'pergunta': 'Qual é a visão de Euclides da Cunha sobre o ambiente natural do sertão nordestino e como ele influencia a vida dos habitantes?', 'resposta': 'Euclides da Cunha descreve o ambiente natural do sertão nordestino como uma região árida e selvagem, onde as condições geológicas e topográficas influenciam diretamente a vida dos habitantes. Ele destaca a influência das características genéticas do local, que reagem fortemente sobre os habitantes, contribuindo para o agravamento das condições de vida. A interação entre os agentes físicos e as condições locais resulta em um conflito perene, refletindo na significação mesológica do sertão. Euclides da Cunha ressalta que a região é pouco explorada pelos cientistas e que a vida no sertão é marcada por adversidades e dificuldades, tornando-se um local desconhecido e desafiador.'}\n",
      "{'numero': 1, 'pergunta': 'Quais são as principais características da população sertaneja descritas por Euclides da Cunha? Como ele relaciona essas características com o ambiente em que vivem?', 'resposta': 'Euclides da Cunha destaca a originalidade na gênese da população sertaneja, especialmente no Brasil subtropical. Ele menciona a diversidade geográfica do Rio de São Francisco e sua influência na formação da população sertaneja. Euclides descreve a variedade de regiões, desde as cabeceiras amplas até o curso inferior estreito e pobre em tributários, passando pelas regiões das montanhas, florestas e caatingas.\\n\\nEle relaciona as características da população sertaneja com o ambiente em que vivem ao destacar a tríplice disposição do Rio São Francisco como um diagrama da marcha histórica do Brasil. Ele sugere que as condições genéticas da população sertaneja reagem sobre as influências físicas do ambiente, criando um círculo vicioso de influências recíprocas. Euclides enfatiza a importância do meio ambiente na formação e nas características da população sertaneja, refletindo a mesologia do local e a interação constante entre fatores físicos e genéticos.'}\n",
      "{'numero': 2, 'pergunta': 'Qual foi o contexto histórico e político que levou à Guerra de Canudos, segundo Euclides da Cunha?', 'resposta': 'Segundo Euclides da Cunha, o contexto histórico e político que levou à Guerra de Canudos foi marcado por uma série de expedições punitivas organizadas pelo governo republicano contra a comunidade de Belo Monte, em Canudos. Essas expedições foram justificadas sob a alegação de que Canudos representava uma reação monárquica que ameaçava as instituições republicanas. A guerra foi um reflexo da divisão ideológica da época, com monarquistas e republicanos em conflito, e culminou na derrota das três primeiras expedições militares contra o povo de Canudos. Euclides da Cunha denunciou o que considerou um crime e buscou narrar os eventos da guerra em seu livro \"Os Sertões\".'}\n",
      "{'numero': 3, 'pergunta': 'Como Euclides da Cunha descreve a figura de Antônio Conselheiro e seu papel na Guerra de Canudos?', 'resposta': 'Euclides da Cunha descreve a figura de Antônio Conselheiro como um líder religioso e político que percorreu o sertão da Bahia construindo igrejas e reformando cemitérios, formando a comunidade de Belo Monte às margens do Rio Vaza-Barris. Ele destaca que Antônio Conselheiro era acompanhado por centenas de seguidores, que o adoravam como um Deus vivo e obedeciam às suas ordens em detrimento das do vigário local. Euclides da Cunha também menciona os excessos e sacrifícios realizados em nome de Antônio Conselheiro, indicando que seu papel foi fundamental na formação e defesa da comunidade de Canudos durante a Guerra de Canudos.'}\n",
      "{'numero': 4, 'pergunta': 'Quais são os principais aspectos da crítica social e política presentes em \"Os Sertões\"? Como esses aspectos refletem a visão do autor sobre o Brasil da época?', 'resposta': 'Os principais aspectos da crítica social e política presentes em \"Os Sertões\" são a denúncia da injustiça social, a análise da realidade geográfica e humana do homem do sertão, e a abordagem da transformação da sociedade brasileira nas décadas finais do século XIX. Esses aspectos refletem a visão do autor, Euclides da Cunha, sobre o Brasil da época ao mostrar como a sociedade estava dominada pela injustiça social, destacando as condições fatais do mundo físico, como as \"secas\" que assolam os sertões, e as questões políticas e sociais que influenciaram a história nacional, como a Guerra do Paraguai, a criação do Partido Republicano e a Abolição da Escravidão. Euclides da Cunha apresenta uma interpretação crítica da realidade brasileira, ressaltando a necessidade de mudanças e transformações para um futuro melhor.'}\n"
     ]
    }
   ],
   "source": [
    "for index, question in enumerate(questions):\n",
    "  \n",
    "    resposta = answer_question(question)\n",
    "    \n",
    "    print({\"numero\": index, \"pergunta\": question, \"resposta\": resposta})"
   ]
  }
 ],
 "metadata": {
  "kernelspec": {
   "display_name": ".venv",
   "language": "python",
   "name": "python3"
  },
  "language_info": {
   "codemirror_mode": {
    "name": "ipython",
    "version": 3
   },
   "file_extension": ".py",
   "mimetype": "text/x-python",
   "name": "python",
   "nbconvert_exporter": "python",
   "pygments_lexer": "ipython3",
   "version": "3.13.5"
  }
 },
 "nbformat": 4,
 "nbformat_minor": 5
}
