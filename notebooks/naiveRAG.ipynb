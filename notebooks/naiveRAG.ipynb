{
 "cells": [
  {
   "cell_type": "code",
   "execution_count": 6,
   "id": "3d80f2b1-e227-44fa-af53-bcec6b282214",
   "metadata": {},
   "outputs": [],
   "source": [
    "from langchain_text_splitters import RecursiveCharacterTextSplitter\n",
    "from langchain_openai import OpenAIEmbeddings\n",
    "from langchain_openai import ChatOpenAI\n",
    "from langchain_community.vectorstores import Chroma\n",
    "from langchain_community.document_loaders import PyPDFLoader\n",
    "from langchain.chains.question_answering import load_qa_chain\n",
    "from langchain_core.runnables import RunnableSequence\n",
    "from langchain_core.prompts import PromptTemplate\n",
    "from langchain_core.output_parsers import StrOutputParser"
   ]
  },
  {
   "cell_type": "code",
   "execution_count": 16,
   "id": "bf1d84fa",
   "metadata": {},
   "outputs": [
    {
     "name": "stdout",
     "output_type": "stream",
     "text": [
      "Requirement already satisfied: python-dotenv in /Users/roberta/www/ai-devs/rag-examples/.venv/lib/python3.13/site-packages (1.1.1)\n",
      "Note: you may need to restart the kernel to use updated packages.\n",
      "The dotenv extension is already loaded. To reload it, use:\n",
      "  %reload_ext dotenv\n"
     ]
    }
   ],
   "source": [
    "%pip install python-dotenv\n",
    "import dotenv\n",
    "%load_ext dotenv\n",
    "%dotenv"
   ]
  },
  {
   "cell_type": "code",
   "execution_count": 1,
   "id": "088fa02c-4277-4632-9ea7-ddd8f4293b12",
   "metadata": {},
   "outputs": [],
   "source": [
    "import os"
   ]
  },
  {
   "cell_type": "code",
   "execution_count": 2,
   "id": "d1722229",
   "metadata": {},
   "outputs": [],
   "source": [
    "questions = [\n",
    "    \"Qual é a visão de Euclides da Cunha sobre o ambiente natural do sertão nordestino e como ele influencia a vida dos habitantes?\",\n",
    "    \"Quais são as principais características da população sertaneja descritas por Euclides da Cunha? Como ele relaciona essas características com o ambiente em que vivem?\",\n",
    "    \"Qual foi o contexto histórico e político que levou à Guerra de Canudos, segundo Euclides da Cunha?\",\n",
    "    \"Como Euclides da Cunha descreve a figura de Antônio Conselheiro e seu papel na Guerra de Canudos?\",\n",
    "    \"Quais são os principais aspectos da crítica social e política presentes em \\\"Os Sertões\\\"? Como esses aspectos refletem a visão do autor sobre o Brasil da época?\",\n",
    "]"
   ]
  },
  {
   "cell_type": "code",
   "execution_count": 7,
   "id": "1db3a537-bb2e-4ec4-9ad1-917ccacd2d6e",
   "metadata": {},
   "outputs": [],
   "source": [
    "#Load dos modelos (Embeddings e LLM)\n",
    "\n",
    "embeddings_model = OpenAIEmbeddings()\n",
    "llm = ChatOpenAI(model_name= \"gpt-3.5-turbo\", max_tokens = 200)"
   ]
  },
  {
   "cell_type": "code",
   "execution_count": 8,
   "id": "bff38888-7b58-46d8-a4d1-7230e7d70337",
   "metadata": {},
   "outputs": [],
   "source": [
    "#Carregar o PDF\n",
    "pdf_path = os.path.join(\"..\", \"data\", \"os-sertoes.pdf\")\n",
    "loader = PyPDFLoader(pdf_path, extract_images=False)\n",
    "pages = loader.load_and_split()"
   ]
  },
  {
   "cell_type": "code",
   "execution_count": 9,
   "id": "c559d699-babe-4d29-8f78-f1d809b0f97c",
   "metadata": {},
   "outputs": [],
   "source": [
    "#Separar em chunks (pedaços de documento)\n",
    "\n",
    "text_splitter = RecursiveCharacterTextSplitter(\n",
    "    chunk_size = 800,\n",
    "    chunk_overlap = 150,\n",
    "    length_function = len,\n",
    "    add_start_index = True,\n",
    "    separators=[\"\\n\\n\", \"\\n\", \".\", \"!\", \"?\", \",\", \" \"]\n",
    ")\n",
    "chunks = text_splitter.split_documents(pages)"
   ]
  },
  {
   "cell_type": "code",
   "execution_count": 11,
   "id": "2ea74fb1-b88e-4d10-a71d-83afb04dcbff",
   "metadata": {},
   "outputs": [],
   "source": [
    "#Salvar no vectorDB\n",
    "\n",
    "db = Chroma.from_documents(chunks, embedding=embeddings_model)"
   ]
  },
  {
   "cell_type": "code",
   "execution_count": 12,
   "id": "265e8a2c-938a-479b-8109-c9626ba2bfb3",
   "metadata": {},
   "outputs": [
    {
     "name": "stderr",
     "output_type": "stream",
     "text": [
      "/var/folders/pp/byh0kn390x12x8dgh89r2d8r0000gn/T/ipykernel_42731/2150703760.py:4: LangChainDeprecationWarning: This class is deprecated. See the following migration guides for replacements based on `chain_type`:\n",
      "stuff: https://python.langchain.com/docs/versions/migrating_chains/stuff_docs_chain\n",
      "map_reduce: https://python.langchain.com/docs/versions/migrating_chains/map_reduce_chain\n",
      "refine: https://python.langchain.com/docs/versions/migrating_chains/refine_chain\n",
      "map_rerank: https://python.langchain.com/docs/versions/migrating_chains/map_rerank_docs_chain\n",
      "\n",
      "See also guides on retrieval and question-answering here: https://python.langchain.com/docs/how_to/#qa-with-rag\n",
      "  chain = load_qa_chain(llm, chain_type=\"stuff\")\n"
     ]
    }
   ],
   "source": [
    "#Load Retriever\n",
    "retriever = db.as_retriever(search_kwargs={\"k\": 3})\n",
    "#Construção da cadeia de prompt para a chamada do LLM\n",
    "chain = load_qa_chain(llm, chain_type=\"stuff\")"
   ]
  },
  {
   "cell_type": "code",
   "execution_count": 13,
   "id": "66443cd6",
   "metadata": {},
   "outputs": [],
   "source": [
    "TEMPLATE = \"\"\"\n",
    "Você é um especialista em literatura brasileira. Responda a pergunta abaixo utilizando o contexto informado\n",
    "\n",
    "Contexto: {context}\n",
    "    \n",
    "Pergunta: {question}\n",
    "\"\"\"\n",
    "\n",
    "prompt = PromptTemplate(input_variables=[\"context\", \"question\"], template=TEMPLATE)\n",
    "parser = StrOutputParser()\n",
    "sequence = RunnableSequence(prompt | llm | parser)"
   ]
  },
  {
   "cell_type": "code",
   "execution_count": 14,
   "id": "44994484-534b-420f-a685-b879dce0a6d9",
   "metadata": {},
   "outputs": [],
   "source": [
    "def answer_question(question: str):\n",
    "    context = retriever.invoke(question)\n",
    "\n",
    "    response = sequence.invoke({\"context\": context, \"question\": question})\n",
    "\n",
    "    return response"
   ]
  },
  {
   "cell_type": "code",
   "execution_count": null,
   "id": "f1a9aa49-d2ec-4a96-a5a1-8bbf238e3bcd",
   "metadata": {},
   "outputs": [
    {
     "name": "stdout",
     "output_type": "stream",
     "text": [
      "{'numero': 0, 'pergunta': 'Qual é a visão de Euclides da Cunha sobre o ambiente natural do sertão nordestino e como ele influencia a vida dos habitantes?', 'resposta': 'Euclides da Cunha descreve o ambiente natural do sertão nordestino como sendo caracterizado por características geológicas e topográficas distintas. Ele destaca a influência dos elementos físicos do local, como as formações geológicas e o clima, na vida dos habitantes da região. O autor ressalta a importância desses fatores na configuração do ambiente e na forma como eles afetam a vida das pessoas que ali habitam.'}\n",
      "{'numero': 1, 'pergunta': 'Quais são as principais características da população sertaneja descritas por Euclides da Cunha? Como ele relaciona essas características com o ambiente em que vivem?', 'resposta': 'Euclides da Cunha descreve a população sertaneja como dispersa na multidão, mas enérgica e definida quando resumida em uma individualidade. Ele menciona que todas as crenças ingênuas, desde o fetichismo bárbaro até as aberrações católicas, e as tendências impulsivas das raças inferiores se condensaram no misticismo feroz e extravagante dessa população. \\n\\nO autor relaciona essas características da população sertaneja com o ambiente em que vivem ao destacar que o misticismo e a agitação presentes nessa população são influenciados pelas condições geológicas, topográficas e climáticas da região. Ele sugere que o temperamento impressionável dessas pessoas as torna receptivas às crenças do ambiente, o que acaba impactando a própria comunidade'}\n",
      "{'numero': 2, 'pergunta': 'Qual foi o contexto histórico e político que levou à Guerra de Canudos, segundo Euclides da Cunha?', 'resposta': 'Segundo Euclides da Cunha, o contexto histórico e político que levou à Guerra de Canudos foi a presença de projetos políticos do governo de Floriano Peixoto, o Marechal de Ferro, que resultaram em expedições militares comandadas pelo Coronel Antônio Moreira César contra o povo de Canudos. A figura sanguinária de Moreira César servia aos interesses políticos do governo e sua derrota frente aos seguidores do beato Antônio Conselheiro causou estupefação no Brasil. Euclides da Cunha aproximou o conflito na Bahia da rebelião contra a Revolução Francesa desfechada por camponeses monarquistas e católicos da região da Vendeia, criando uma reflexão sobre a mentalidade intelectual dividida entre monarquistas e'}\n",
      "{'numero': 3, 'pergunta': 'Como Euclides da Cunha descreve a figura de Antônio Conselheiro e seu papel na Guerra de Canudos?', 'resposta': 'Euclides da Cunha descreve Antônio Conselheiro como um líder religioso carismático, cuja figura centralizava a resistência do povo de Canudos contra as expedições militares. Ele desempenha um papel de liderança e inspiração para os seguidores, sendo visto como uma figura que representa a soberania popular e a resistência contra a opressão das autoridades políticas. Conselheiro é retratado como um líder capaz de mobilizar e unir seu povo em torno de uma causa comum, resistindo bravamente às investidas militares.'}\n",
      "{'numero': 4, 'pergunta': 'Quais são os principais aspectos da crítica social e política presentes em \"Os Sertões\"? Como esses aspectos refletem a visão do autor sobre o Brasil da época?', 'resposta': 'Os principais aspectos da crítica social e política presentes em \"Os Sertões\" estão relacionados à injustiça social e à violência no contexto do sertão nordestino durante a Guerra de Canudos. Euclides da Cunha expõe a situação precária e desigual dos habitantes da região, bem como a brutalidade das forças militares que reprimiram o movimento liderado por Antônio Conselheiro.\\n\\nEsses aspectos refletem a visão do autor sobre o Brasil da época como um país marcado pela desigualdade social, pela violência e pela corrupção política. Euclides da Cunha denuncia a exploração dos sertanejos, a falta de assistência do governo e a truculência das autoridades, apontando para a necessidade de mudanças estruturais e sociais para superar'}\n"
     ]
    }
   ],
   "source": [
    "for index, question in enumerate(questions):\n",
    "  \n",
    "    resposta = answer_question(question)\n",
    "    \n",
    "    print({\"numero\": index, \"pergunta\": question, \"resposta\": resposta})"
   ]
  }
 ],
 "metadata": {
  "kernelspec": {
   "display_name": ".venv",
   "language": "python",
   "name": "python3"
  },
  "language_info": {
   "codemirror_mode": {
    "name": "ipython",
    "version": 3
   },
   "file_extension": ".py",
   "mimetype": "text/x-python",
   "name": "python",
   "nbconvert_exporter": "python",
   "pygments_lexer": "ipython3",
   "version": "3.13.5"
  }
 },
 "nbformat": 4,
 "nbformat_minor": 5
}
